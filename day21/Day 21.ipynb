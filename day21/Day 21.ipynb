{
 "cells": [
  {
   "cell_type": "code",
   "execution_count": 41,
   "id": "368b662f-4086-4b90-8b1b-13bee125826c",
   "metadata": {},
   "outputs": [],
   "source": [
    "import pandas as pd\n",
    "import numpy as np\n",
    "import matplotlib.pyplot as plt\n",
    "from pprint import pprint, pformat"
   ]
  },
  {
   "cell_type": "code",
   "execution_count": 4,
   "id": "d97549af-f9e7-4c95-929f-2977234cf172",
   "metadata": {},
   "outputs": [],
   "source": [
    "def diff (arr):\n",
    "    return arr[1:] - arr[:-1]"
   ]
  },
  {
   "cell_type": "markdown",
   "id": "720ec13a-5ea4-47ce-92e4-6dc6995420d0",
   "metadata": {},
   "source": [
    "### Example 2"
   ]
  },
  {
   "cell_type": "markdown",
   "id": "9277f36a-e0b7-48ca-a4d1-640463686b22",
   "metadata": {},
   "source": [
    "#### Load and Explore Example Data"
   ]
  },
  {
   "cell_type": "code",
   "execution_count": 2,
   "id": "0f78ee7f-dd12-41e9-9db8-85a64c8ee5b7",
   "metadata": {},
   "outputs": [],
   "source": [
    "sample= pd.read_csv(\"sample.csv\")"
   ]
  },
  {
   "cell_type": "code",
   "execution_count": 3,
   "id": "2d69fc73-0e43-4eff-b844-909e61933fc5",
   "metadata": {},
   "outputs": [
    {
     "data": {
      "text/plain": [
       "<Axes: >"
      ]
     },
     "execution_count": 3,
     "metadata": {},
     "output_type": "execute_result"
    },
    {
     "data": {
      "image/png": "[encoded data removed]",
      "text/plain": [
       "<Figure size 640x480 with 1 Axes>"
      ]
     },
     "metadata": {},
     "output_type": "display_data"
    }
   ],
   "source": [
    "sample.plot()"
   ]
  },
  {
   "cell_type": "code",
   "execution_count": 5,
   "id": "f6a082ce-b418-468c-90e8-02ebfeff55c2",
   "metadata": {},
   "outputs": [],
   "source": [
    "plots = sample['plots'].to_numpy()"
   ]
  },
  {
   "cell_type": "code",
   "execution_count": 6,
   "id": "a669f080-d3e1-4cf9-993c-338d2f4d5d85",
   "metadata": {
    "scrolled": true
   },
   "outputs": [
    {
     "data": {
      "text/plain": [
       "array([     1,      2,      4,      6,      9,     13,     16,     22,\n",
       "           30,     41,     50,     63,     74,     89,     99,    115,\n",
       "          129,    145,    165,    192,    216,    234,    261,    294,\n",
       "          326,    353,    395,    427,    460,    491,    537,    574,\n",
       "          605,    644,    689,    740,    784,    846,    894,    944,\n",
       "          989,   1053,   1107,   1146,   1196,   1256,   1324,   1383,\n",
       "         1464,   1528,   1594,   1653,   1735,   1805,   1853,   1914,\n",
       "         1988,   2072,   2145,   2244,   2324,   2406,   2479,   2579,\n",
       "         2665,   2722,   2794,   2882,   2982,   3069,   3186,   3282,\n",
       "         3380,   3467,   3585,   3687,   3753,   3836,   3938,   4054,\n",
       "         4155,   4290,   4402,   4516,   4617,   4753,   4871,   4946,\n",
       "         5040,   5156,   5288,   5403,   5556,   5684,   5814,   5929,\n",
       "         6083,   6217,   6301,   6406,   6536,   6684,   6813,   6984,\n",
       "         7128,   7274,   7403,   7575,   7725,   7818,   7934,   8078,\n",
       "         8242,   8385,   8574,   8734,   8896,   9039,   9229,   9395,\n",
       "         9497,   9624,   9782,   9962,  10119,  10326,  10502,  10680,\n",
       "        10837,  11045,  11227,  11338,  11476,  11648,  11844,  12015,\n",
       "        12240,  12432,  12626,  12797,  13023,  13221,  13341,  13490,\n",
       "        13676,  13888,  14073,  14316,  14524,  14734,  14919,  15163,\n",
       "        15377,  15506,  15666,  15866,  16094,  16293,  16554,  16778,\n",
       "        17004,  17203,  17465,  17695,  17833,  18004,  18218,  18462,\n",
       "        18675,  18954,  19194,  19436,  19649,  19929,  20175,  20322,\n",
       "        20504,  20732,  20992,  21219,  21516,  21772,  22030,  22257,\n",
       "        22555,  22817,  22973,  23166,  23408,  23684,  23925,  24240,\n",
       "        24512,  24786,  25027,  25343,  25621,  25786,  25990,  26246,\n",
       "        26538,  26793,  27126,  27414,  27704,  27959,  28293,  28587,\n",
       "        28761,  28976,  29246,  29554,  29823,  30174,  30478,  30784,\n",
       "        31053,  31405,  31715,  31898,  32124,  32408,  32732,  33015,\n",
       "        33384,  33704,  34026,  34309,  34679,  35005,  35197,  35434,\n",
       "        35732,  36072,  36369,  36756,  37092,  37430,  37727,  38115,\n",
       "        38457,  38658,  38906,  39218,  39574,  39885,  40290,  40642,\n",
       "        40996,  41307,  41713,  42071,  42281,  42540,  42866,  43238,\n",
       "        43563,  43986,  44354,  44724,  45049,  45473,  45847,  46066,\n",
       "        46336,  46676,  47064,  47403,  47844,  48228,  48614,  48953,\n",
       "        49395,  49785,  50013,  50294,  50648,  51052,  51405,  51864,\n",
       "        52264,  52666,  53019,  53479,  53885,  54122,  54414,  54782,\n",
       "        55202,  55569,  56046,  56462,  56880,  57247,  57725,  58147,\n",
       "        58393,  58696,  59078,  59514,  59895,  60390,  60822,  61256,\n",
       "        61637,  62133,  62571,  62826,  63140,  63536,  63988,  64383,\n",
       "        64896,  65344,  65794,  66189,  66703,  67157,  67421,  67746,\n",
       "        68156,  68624,  69033,  69564,  70028,  70494,  70903,  71435,\n",
       "        71905,  72178,  72514,  72938,  73422,  73845,  74394,  74874,\n",
       "        75356,  75779,  76329,  76815,  77097,  77444,  77882,  78382,\n",
       "        78819,  79386,  79882,  80380,  80817,  81385,  81887,  82178,\n",
       "        82536,  82988,  83504,  83955,  84540,  85052,  85566,  86017,\n",
       "        86603,  87121,  87421,  87790,  88256,  88788,  89253,  89856,\n",
       "        90384,  90914,  91379,  91983,  92517,  92826,  93206,  93686,\n",
       "        94234,  94713,  95334,  95878,  96424,  96903,  97525,  98075,\n",
       "        98393,  98784,  99278,  99842, 100335, 100974, 101534, 102096,\n",
       "       102589, 103229, 103795, 104122, 104524, 105032, 105612, 106119,\n",
       "       106776, 107352, 107930, 108437, 109095, 109677, 110013, 110426,\n",
       "       110948, 111544, 112065, 112740, 113332, 113926, 114447, 115123,\n",
       "       115721, 116066, 116490, 117026, 117638, 118173, 118866, 119474,\n",
       "       120084, 120619, 121313, 121927, 122281, 122716, 123266, 123894,\n",
       "       124443, 125154, 125778, 126404, 126953, 127665, 128295, 128658,\n",
       "       129104, 129668, 130312, 130875, 131604, 132244, 132886, 133449,\n",
       "       134179, 134825, 135197, 135654, 136232, 136892, 137469, 138216,\n",
       "       138872, 139530, 140107, 140855, 141517, 141898, 142366, 142958,\n",
       "       143634, 144225, 144990, 145662, 146336, 146927, 147693, 148371,\n",
       "       148761, 149240, 149846, 150538, 151143, 151926, 152614, 153304,\n",
       "       153909, 154693, 155387, 155786, 156276, 156896, 157604, 158223,\n",
       "       159024, 159728, 160434, 161053, 161855, 162565, 162973, 163474,\n",
       "       164108, 164832, 165465, 166284, 167004])"
      ]
     },
     "execution_count": 6,
     "metadata": {},
     "output_type": "execute_result"
    }
   ],
   "source": [
    "plots"
   ]
  },
  {
   "cell_type": "code",
   "execution_count": 84,
   "id": "30ae9f7c-5aa4-4c8d-8147-7d9366910688",
   "metadata": {
    "scrolled": true
   },
   "outputs": [
    {
     "data": {
      "text/plain": [
       "array([  1,   2,   2,   3,   4,   3,   6,   8,  11,   9,  13,  11,  15,\n",
       "        10,  16,  14,  16,  20,  27,  24,  18,  27,  33,  32,  27,  42,\n",
       "        32,  33,  31,  46,  37,  31,  39,  45,  51,  44,  62,  48,  50,\n",
       "        45,  64,  54,  39,  50,  60,  68,  59,  81,  64,  66,  59,  82,\n",
       "        70,  48,  61,  74,  84,  73,  99,  80,  82,  73, 100,  86])"
      ]
     },
     "execution_count": 84,
     "metadata": {},
     "output_type": "execute_result"
    }
   ],
   "source": [
    "dplots = diff(plots)\n",
    "dplots[:64]"
   ]
  },
  {
   "cell_type": "code",
   "execution_count": 73,
   "id": "366b5b13-1fcb-4564-a4a5-9e82396e2f81",
   "metadata": {},
   "outputs": [
    {
     "data": {
      "text/plain": [
       "array([  1,   2,   4,   6,   9,  13,  16,  22,  30,  41,  50,  63,  74,\n",
       "        89,  99, 115, 129, 145, 165, 192, 216, 234, 261, 294, 326, 353,\n",
       "       395, 427, 460, 491, 537, 574, 605, 644, 689, 740])"
      ]
     },
     "execution_count": 73,
     "metadata": {},
     "output_type": "execute_result"
    }
   ],
   "source": [
    "np.cumsum(np.concatenate((plots[0:1], dplots)))[:36]"
   ]
  },
  {
   "cell_type": "code",
   "execution_count": 75,
   "id": "a6748b78-584e-4c6f-87f8-bbbe43878214",
   "metadata": {},
   "outputs": [
    {
     "data": {
      "text/plain": [
       "63"
      ]
     },
     "execution_count": 75,
     "metadata": {},
     "output_type": "execute_result"
    }
   ],
   "source": [
    "plots[0] + sum(dplots[:11])"
   ]
  },
  {
   "cell_type": "code",
   "execution_count": 77,
   "id": "d27af7c5-82fe-4b45-8794-50cd78aa4628",
   "metadata": {},
   "outputs": [
    {
     "data": {
      "text/plain": [
       "261"
      ]
     },
     "execution_count": 77,
     "metadata": {},
     "output_type": "execute_result"
    }
   ],
   "source": [
    "plots[0] + sum(dplots[:11]) + sum(dplots[11:22])"
   ]
  },
  {
   "cell_type": "code",
   "execution_count": 85,
   "id": "f3e5ad01-863c-43c9-80d4-6a85e0d8d889",
   "metadata": {},
   "outputs": [
    {
     "data": {
      "text/plain": [
       "array([ 1,  2,  2,  3,  4,  3,  6,  8, 11,  9, 13])"
      ]
     },
     "execution_count": 85,
     "metadata": {},
     "output_type": "execute_result"
    }
   ],
   "source": [
    "dplots[:11]"
   ]
  },
  {
   "cell_type": "code",
   "execution_count": 86,
   "id": "f1ad084b-e500-492a-934e-831377478853",
   "metadata": {},
   "outputs": [
    {
     "data": {
      "text/plain": [
       "array([11, 15, 10, 16, 14, 16, 20, 27, 24, 18, 27])"
      ]
     },
     "execution_count": 86,
     "metadata": {},
     "output_type": "execute_result"
    }
   ],
   "source": [
    "dplots[11:22]"
   ]
  },
  {
   "cell_type": "code",
   "execution_count": 87,
   "id": "deaa7fbb-8715-457f-81d3-8ed16b585e4a",
   "metadata": {},
   "outputs": [
    {
     "data": {
      "text/plain": [
       "array([33, 32, 27, 42, 32, 33, 31, 46, 37, 31, 39])"
      ]
     },
     "execution_count": 87,
     "metadata": {},
     "output_type": "execute_result"
    }
   ],
   "source": [
    "dplots[22:33]"
   ]
  },
  {
   "cell_type": "code",
   "execution_count": 88,
   "id": "9b2fa07d-aadc-43da-951f-f9d47af5de49",
   "metadata": {},
   "outputs": [
    {
     "data": {
      "text/plain": [
       "array([45, 51, 44, 62, 48, 50, 45, 64, 54, 39, 50])"
      ]
     },
     "execution_count": 88,
     "metadata": {},
     "output_type": "execute_result"
    }
   ],
   "source": [
    "dplots[33:44]"
   ]
  },
  {
   "cell_type": "code",
   "execution_count": 93,
   "id": "8c07620d-fe5d-450c-9462-af2781d270cf",
   "metadata": {},
   "outputs": [
    {
     "name": "stdout",
     "output_type": "stream",
     "text": [
      "   1    2    2    3    4    3    6    8   11    9   13\n",
      "  11   15   10   16   14   16   20   27   24   18   27\n",
      "  33   32   27   42   32   33   31   46   37   31   39\n",
      "  45   51   44   62   48   50   45   64   54   39   50\n",
      "  60   68   59   81   64   66   59   82   70   48   61\n",
      "  74   84   73   99   80   82   73  100   86   57   72\n",
      "  88  100   87  117   96   98   87  118  102   66   83\n",
      " 102  116  101  135  112  114  101  136  118   75   94\n",
      " 116  132  115  153  128  130  115  154  134   84  105\n",
      " 130  148  129  171  144  146  129  172  150   93  116\n"
     ]
    }
   ],
   "source": [
    "cols = 11\n",
    "for cycle in range(10):\n",
    "    print(\" \".join([f\"{v:4d}\" for v in dplots[cols*cycle:cols*(cycle+1)]]))"
   ]
  },
  {
   "cell_type": "code",
   "execution_count": 140,
   "id": "13f64a56-47ed-441c-a308-ff5db5e206a9",
   "metadata": {},
   "outputs": [
    {
     "name": "stdout",
     "output_type": "stream",
     "text": [
      "at: 450 -> cycle 40, col 10\n",
      "\n",
      "   1    2    4    6    9   13   16   22   30   41   50\n",
      "  63   74   89   99  115  129  145  165  192  216  234\n",
      " 261  294  326  353  395  427  460  491  537  574  605\n",
      " 644  689  740  784  846  894  944  989 1053 1107 1146\n",
      "1196 1256 1324 1383 1464 1528 1594 1653 1735 1805 1853\n",
      "1914 1988 2072 2145 2244 2324 2406 2479 2579 2665 2722\n",
      "2794 2882 2982 3069 3186 3282 3380 3467 3585 3687 3753\n",
      "3836 3938 4054 4155 4290 4402 4516 4617 4753 4871 4946\n",
      "5040 5156 5288 5403 5556 5684 5814 5929 6083 6217 6301\n",
      "6406 6536 6684 6813 6984 7128 7274 7403 7575 7725 7818\n",
      "\n",
      "   1    2    2    3    4    3    6    8   11    9   13\n",
      "  11   15   10   16   14   16   20   27   24   18   27\n",
      "  33   32   27   42   32   33   31   46   37   31   39\n",
      "  45   51   44   62   48   50   45   64   54   39   50\n",
      "  60   68   59   81   64   66   59   82   70   48   61\n",
      "  74   84   73   99   80   82   73  100   86   57   72\n",
      "  88  100   87  117   96   98   87  118  102   66   83\n",
      " 102  116  101  135  112  114  101  136  118   75   94\n",
      " 116  132  115  153  128  130  115  154  134   84  105\n",
      " 130  148  129  171  144  146  129  172  150   93  116\n",
      "\n",
      "  14   16   14   18   16   16   14   18   16    9   11\n",
      "start: 5\n",
      "base: start*cols = 5*11 = 1914\n",
      "tcycle - start = 40 - 5 = 35\n",
      "sum(dval[start]) = sum([  74   84   73   99   80   82   73  100   86   57   72]) = 880\n",
      "(tcycle - start) * sum(dval[start]) = 35 * 880 = 30800\n",
      "\n",
      "sum(ddval) = sum([  14   16   14   18   16   16   14   18   16    9   11]) = 96390\n",
      "\n",
      "(tcycle - start) * sum(ddval[:tcol] = 35 * sum(  14   16   14   18   16   16   14   18   16    9) = 5285\n",
      "\n"
     ]
    },
    {
     "data": {
      "text/plain": [
       "(135197, 135197)"
      ]
     },
     "execution_count": 140,
     "metadata": {},
     "output_type": "execute_result"
    }
   ],
   "source": [
    "def extrapolate(vals, cols, at) -> int:\n",
    "    tcycle = at // cols\n",
    "    tcol = at % cols\n",
    "    print(f\"at: {at} -> cycle {tcycle}, col {tcol}\\n\")\n",
    "    \n",
    "    dval = []\n",
    "    ncycle = len(vals) // cols\n",
    "    for cycle in range(ncycle):\n",
    "        row = []\n",
    "        for col in range(cols):\n",
    "            i = cols *(cycle) + col\n",
    "            row.append(vals[i+1] - vals[i])\n",
    "        dval.append(row)\n",
    "    \n",
    "    for cycle in range(min(10, ncycle)):\n",
    "        print(\" \".join([f\"{vals[col]:4d}\" for col in range(cycle*cols, (cycle+1)*cols)]))\n",
    "    print()\n",
    "    \n",
    "    for cycle in range(min(10, ncycle)):\n",
    "        print(\" \".join([f\"{dval[cycle][col]:4d}\" for col in range(cols)]))\n",
    "    print()\n",
    "\n",
    "    start = ncycle - 1\n",
    "    assert start > 1\n",
    "    ddval = [dval[start][col] - dval[start-1][col] for col in range(cols)]\n",
    "    ddval1 = [dval[start-1][col] - dval[start-2][col] for col in range(cols)]\n",
    "    while all([ddval[col] == ddval1[col] for col in range(cols)]) and start > 1:\n",
    "        start -= 1\n",
    "        ddval = ddval1\n",
    "        ddval1 = [dval[start-1][col] - dval[start-2][col] for col in range(cols)]\n",
    "    \n",
    "    print(\" \".join([f\"{ddval[col]:4d}\" for col in range(cols)]))\n",
    "    print(f\"start: {start}\")\n",
    "\n",
    "    if tcycle < start:\n",
    "        return vals[at]\n",
    "\n",
    "    base = vals[start * cols]\n",
    "    result = base\n",
    "    print(f\"base: start*cols = {start}*{cols} = {base}\")\n",
    "    \n",
    "    result += (tcycle - start) * sum(dval[start])\n",
    "    print(f\"tcycle - start = {tcycle} - {start} = {tcycle - start}\")\n",
    "    \n",
    "    dval_start = \" \".join([f\"{dval[start][col]:4d}\" for col in range(cols)])\n",
    "    print(f\"sum(dval[start]) = sum([{dval_start}]) = {sum(dval[start])}\")\n",
    "    print(f\"(tcycle - start) * sum(dval[start]) = {tcycle -start} * {sum(dval[start])} = {(tcycle - start) * sum(dval[start])}\\n\")\n",
    "\n",
    "    ddval_start = \" \".join([f\"{ddval[col]:4d}\" for col in range(cols)])\n",
    "    result += (tcycle - start)*(tcycle - start - 1)*sum(ddval)//2\n",
    "    print(f\"sum(ddval) = sum([{ddval_start}]) = {(tcycle - start)*(tcycle - start - 1)*sum(ddval)//2}\\n\")\n",
    "\n",
    "    result += sum(dval[start][:tcol]) + (tcycle - start) * sum(ddval[:tcol])\n",
    "    ddval_tcol = \" \".join([f\"{ddval[col]:4d}\" for col in range(tcol)])\n",
    "    print(f\"(tcycle - start) * sum(ddval[:tcol] = {tcycle -start} * sum({ddval_tcol}) = {(tcycle - start) * sum(ddval[:tcol])}\\n\")\n",
    "\n",
    "    return result\n",
    "\n",
    "extrapolate(plots, 11,450), plots[450]"
   ]
  },
  {
   "cell_type": "code",
   "execution_count": 141,
   "id": "44a38aeb-0459-4184-bcff-ed05ec1a9880",
   "metadata": {},
   "outputs": [
    {
     "name": "stdout",
     "output_type": "stream",
     "text": [
      "at: 5000 -> cycle 454, col 6\n",
      "\n",
      "   1    2    4    6    9   13   16   22   30   41   50\n",
      "  63   74   89   99  115  129  145  165  192  216  234\n",
      " 261  294  326  353  395  427  460  491  537  574  605\n",
      " 644  689  740  784  846  894  944  989 1053 1107 1146\n",
      "1196 1256 1324 1383 1464 1528 1594 1653 1735 1805 1853\n",
      "1914 1988 2072 2145 2244 2324 2406 2479 2579 2665 2722\n",
      "2794 2882 2982 3069 3186 3282 3380 3467 3585 3687 3753\n",
      "3836 3938 4054 4155 4290 4402 4516 4617 4753 4871 4946\n",
      "5040 5156 5288 5403 5556 5684 5814 5929 6083 6217 6301\n",
      "6406 6536 6684 6813 6984 7128 7274 7403 7575 7725 7818\n",
      "\n",
      "   1    2    2    3    4    3    6    8   11    9   13\n",
      "  11   15   10   16   14   16   20   27   24   18   27\n",
      "  33   32   27   42   32   33   31   46   37   31   39\n",
      "  45   51   44   62   48   50   45   64   54   39   50\n",
      "  60   68   59   81   64   66   59   82   70   48   61\n",
      "  74   84   73   99   80   82   73  100   86   57   72\n",
      "  88  100   87  117   96   98   87  118  102   66   83\n",
      " 102  116  101  135  112  114  101  136  118   75   94\n",
      " 116  132  115  153  128  130  115  154  134   84  105\n",
      " 130  148  129  171  144  146  129  172  150   93  116\n",
      "\n",
      "  14   16   14   18   16   16   14   18   16    9   11\n",
      "start: 5\n",
      "base: start*cols = 5*11 = 1914\n",
      "tcycle - start = 454 - 5 = 449\n",
      "sum(dval[start]) = sum([  74   84   73   99   80   82   73  100   86   57   72]) = 880\n",
      "(tcycle - start) * sum(dval[start]) = 449 * 880 = 395120\n",
      "\n",
      "sum(ddval) = sum([  14   16   14   18   16   16   14   18   16    9   11]) = 16293312\n",
      "\n",
      "(tcycle - start) * sum(ddval[:tcol] = 449 * sum(  14   16   14   18   16   16) = 42206\n",
      "\n"
     ]
    },
    {
     "data": {
      "text/plain": [
       "16733044"
      ]
     },
     "execution_count": 141,
     "metadata": {},
     "output_type": "execute_result"
    }
   ],
   "source": [
    "extrapolate(plots, 11, 5000)"
   ]
  },
  {
   "cell_type": "code",
   "execution_count": 98,
   "id": "d3363cf8-f3ad-47e6-9a96-bb9083518b29",
   "metadata": {},
   "outputs": [
    {
     "name": "stdout",
     "output_type": "stream",
     "text": [
      "  10   13    8   13   10   13   14   19   13    9   14\n",
      "  22   17   17   26   18   17   11   19   13   13   12\n",
      "  12   19   17   20   16   17   14   18   17    8   11\n",
      "  15   17   15   19   16   16   14   18   16    9   11\n",
      "  14   16   14   18   16   16   14   18   16    9   11\n",
      "  14   16   14   18   16   16   14   18   16    9   11\n",
      "  14   16   14   18   16   16   14   18   16    9   11\n",
      "  14   16   14   18   16   16   14   18   16    9   11\n",
      "  14   16   14   18   16   16   14   18   16    9   11\n"
     ]
    }
   ],
   "source": [
    "for cycle in range(1, 10):\n",
    "    print(\" \".join([f\"{dplots[i]-dplots[i-cols]:4d}\" for i in range(cols*cycle, cols*(cycle+1))]))"
   ]
  },
  {
   "cell_type": "code",
   "execution_count": null,
   "id": "8bb2ebe5-b039-41a2-a3dd-c3283a80af66",
   "metadata": {},
   "outputs": [],
   "source": []
  },
  {
   "cell_type": "code",
   "execution_count": null,
   "id": "6e0a166c-0f90-41fb-b52d-619a0ee82064",
   "metadata": {},
   "outputs": [],
   "source": []
  },
  {
   "cell_type": "code",
   "execution_count": 83,
   "id": "e7c5cbb6-adad-45e9-96a7-c504a4768ca1",
   "metadata": {
    "scrolled": true
   },
   "outputs": [
    {
     "data": {
      "text/plain": [
       "array([  1,   0,   1,   1,  -1,   3,   2,   3,  -2,   4,  -2,   4,  -5,\n",
       "         6,  -2,   2,   4,   7,  -3,  -6,   9,   6,  -1,  -5,  15, -10,\n",
       "         1,  -2,  15,  -9,  -6,   8,   6,   6,  -7,  18, -14,   2,  -5,\n",
       "        19, -10, -15,  11,  10,   8,  -9,  22, -17,   2,  -7,  23, -12,\n",
       "       -22,  13,  13,  10, -11,  26, -19,   2,  -9,  27, -14, -29])"
      ]
     },
     "execution_count": 83,
     "metadata": {},
     "output_type": "execute_result"
    }
   ],
   "source": [
    "ddplots = diff(diff(plots))\n",
    "ddplots[:64]"
   ]
  },
  {
   "cell_type": "code",
   "execution_count": 79,
   "id": "0a7dd3cd-50e8-4705-a9dc-7a465735c334",
   "metadata": {},
   "outputs": [
    {
     "data": {
      "text/plain": [
       "array([ 1,  2,  2,  3,  4,  3,  6,  8, 11,  9, 13, 11, 15, 10, 16, 14, 16,\n",
       "       20, 27, 24, 18, 27, 33, 32, 27, 42, 32, 33, 31, 46, 37, 31, 39, 45,\n",
       "       51, 44])"
      ]
     },
     "execution_count": 79,
     "metadata": {},
     "output_type": "execute_result"
    }
   ],
   "source": [
    "np.cumsum(np.concatenate((dplots[0:1], ddplots)))[:36]"
   ]
  },
  {
   "cell_type": "code",
   "execution_count": null,
   "id": "811915c2-2dcf-4ed8-97be-daf531e0a970",
   "metadata": {},
   "outputs": [],
   "source": []
  },
  {
   "cell_type": "code",
   "execution_count": 22,
   "id": "16399875-da98-4222-b835-7b28b5533455",
   "metadata": {},
   "outputs": [],
   "source": [
    "def lindiff(vals, cols=1):\n",
    "    dv = diff(vals)\n",
    "    ddv = diff(dv)\n",
    "    for col in range(cols):\n",
    "        dcol = diff(ddv[col::cols])\n",
    "        ddcol = diff(diff(dcol))\n",
    "        assert all([ddcol[-3:] == 0)\n",
    "    return [diff(diff(vals[col::cols])) for col in range(cols)]"
   ]
  },
  {
   "cell_type": "code",
   "execution_count": 82,
   "id": "bc202201-c42e-4f96-ab79-a7f6bdcbcbcd",
   "metadata": {},
   "outputs": [
    {
     "data": {
      "text/plain": [
       "array([False,  True,  True,  True, False, False,  True,  True,  True,\n",
       "       False])"
      ]
     },
     "execution_count": 82,
     "metadata": {},
     "output_type": "execute_result"
    }
   ],
   "source": [
    "plots[:10] % 2 == 0"
   ]
  },
  {
   "cell_type": "code",
   "execution_count": 47,
   "id": "21578fd1-f187-45ce-8f6c-8850d0593339",
   "metadata": {
    "jupyter": {
     "source_hidden": true
    }
   },
   "outputs": [
    {
     "data": {
      "text/plain": [
       "5"
      ]
     },
     "execution_count": 47,
     "metadata": {},
     "output_type": "execute_result"
    }
   ],
   "source": [
    "500 % 11"
   ]
  },
  {
   "cell_type": "code",
   "execution_count": 50,
   "id": "4952947f-d7f5-4e42-809a-6a456ff0c979",
   "metadata": {},
   "outputs": [],
   "source": [
    "dcol, ddcol = extrapolate(plots, 11, 200)"
   ]
  },
  {
   "cell_type": "code",
   "execution_count": 53,
   "id": "a2e5b208-24c5-40cc-b8cf-eab177de805e",
   "metadata": {},
   "outputs": [
    {
     "data": {
      "text/plain": [
       "12"
      ]
     },
     "execution_count": 53,
     "metadata": {},
     "output_type": "execute_result"
    }
   ],
   "source": [
    "plots[0] + dcol[0] - plots[12]"
   ]
  },
  {
   "cell_type": "code",
   "execution_count": 9,
   "id": "66bab898-ca54-48ee-ba17-14a2dcc5168f",
   "metadata": {
    "collapsed": true,
    "jupyter": {
     "outputs_hidden": true
    },
    "scrolled": true
   },
   "outputs": [
    {
     "data": {
      "text/plain": [
       "array([  -1,    1,    0,   -2,    4,   -1,    1,   -5,    6,   -6,    6,\n",
       "         -9,   11,   -8,    4,    2,    3,  -10,   -3,   15,   -3,   -7,\n",
       "         -4,   20,  -25,   11,   -3,   17,  -24,    3,   14,   -2,    0,\n",
       "        -13,   25,  -32,   16,   -7,   24,  -29,   -5,   26,   -1,   -2,\n",
       "        -17,   31,  -39,   19,   -9,   30,  -35,  -10,   35,    0,   -3,\n",
       "        -21,   37,  -45,   21,  -11,   36,  -41,  -15,   44,    1,   -4,\n",
       "        -25,   43,  -51,   23,  -13,   42,  -47,  -20,   53,    2,   -5,\n",
       "        -29,   49,  -57,   25,  -15,   48,  -53,  -25,   62,    3,   -6,\n",
       "        -33,   55,  -63,   27,  -17,   54,  -59,  -30,   71,    4,   -7,\n",
       "        -37,   61,  -69,   29,  -19,   60,  -65,  -35,   80,    5,   -8,\n",
       "        -41,   67,  -75,   31,  -21,   66,  -71,  -40,   89,    6,   -9,\n",
       "        -45,   73,  -81,   33,  -23,   72,  -77,  -45,   98,    7,  -10,\n",
       "        -49,   79,  -87,   35,  -25,   78,  -83,  -50,  107,    8,  -11,\n",
       "        -53,   85,  -93,   37,  -27,   84,  -89,  -55,  116,    9,  -12,\n",
       "        -57,   91,  -99,   39,  -29,   90,  -95,  -60,  125,   10,  -13,\n",
       "        -61,   97, -105,   41,  -31,   96, -101,  -65,  134,   11,  -14,\n",
       "        -65,  103, -111,   43,  -33,  102, -107,  -70,  143,   12,  -15,\n",
       "        -69,  109, -117,   45,  -35,  108, -113,  -75,  152,   13,  -16,\n",
       "        -73,  115, -123,   47,  -37,  114, -119,  -80,  161,   14,  -17,\n",
       "        -77,  121, -129,   49,  -39,  120, -125,  -85,  170,   15,  -18,\n",
       "        -81,  127, -135,   51,  -41,  126, -131,  -90,  179,   16,  -19,\n",
       "        -85,  133, -141,   53,  -43,  132, -137,  -95,  188,   17,  -20,\n",
       "        -89,  139, -147,   55,  -45,  138, -143, -100,  197,   18,  -21,\n",
       "        -93,  145, -153,   57,  -47,  144, -149, -105,  206,   19,  -22,\n",
       "        -97,  151, -159,   59,  -49,  150, -155, -110,  215,   20,  -23,\n",
       "       -101,  157, -165,   61,  -51,  156, -161, -115,  224,   21,  -24,\n",
       "       -105,  163, -171,   63,  -53,  162, -167, -120,  233,   22,  -25,\n",
       "       -109,  169, -177,   65,  -55,  168, -173, -125,  242,   23,  -26,\n",
       "       -113,  175, -183,   67,  -57,  174, -179, -130,  251,   24,  -27,\n",
       "       -117,  181, -189,   69,  -59,  180, -185, -135,  260,   25,  -28,\n",
       "       -121,  187, -195,   71,  -61,  186, -191, -140,  269,   26,  -29,\n",
       "       -125,  193, -201,   73,  -63,  192, -197, -145,  278,   27,  -30,\n",
       "       -129,  199, -207,   75,  -65,  198, -203, -150,  287,   28,  -31,\n",
       "       -133,  205, -213,   77,  -67,  204, -209, -155,  296,   29,  -32,\n",
       "       -137,  211, -219,   79,  -69,  210, -215, -160,  305,   30,  -33,\n",
       "       -141,  217, -225,   81,  -71,  216, -221, -165,  314,   31,  -34,\n",
       "       -145,  223, -231,   83,  -73,  222, -227, -170,  323,   32,  -35,\n",
       "       -149,  229, -237,   85,  -75,  228, -233, -175,  332,   33,  -36,\n",
       "       -153,  235, -243,   87,  -77,  234, -239, -180,  341,   34,  -37,\n",
       "       -157,  241, -249,   89,  -79,  240, -245, -185,  350,   35,  -38,\n",
       "       -161,  247, -255,   91,  -81,  246, -251, -190,  359,   36,  -39,\n",
       "       -165,  253, -261,   93,  -83,  252, -257, -195,  368,   37,  -40,\n",
       "       -169,  259, -267,   95,  -85,  258, -263, -200,  377,   38,  -41,\n",
       "       -173,  265, -273,   97,  -87,  264, -269, -205,  386,   39,  -42,\n",
       "       -177,  271, -279,   99,  -89,  270, -275, -210,  395,   40,  -43,\n",
       "       -181,  277, -285])"
      ]
     },
     "execution_count": 9,
     "metadata": {},
     "output_type": "execute_result"
    }
   ],
   "source": [
    "diff(diff(diff(plots)))"
   ]
  },
  {
   "cell_type": "code",
   "execution_count": null,
   "id": "f431593a-1762-4e91-8f09-7523c691517e",
   "metadata": {},
   "outputs": [],
   "source": [
    "diff(diff(diff(diff(plots))))"
   ]
  },
  {
   "cell_type": "markdown",
   "id": "3ef79933-8221-4fb4-b1b6-cd655db1bf09",
   "metadata": {},
   "source": [
    "### Part 2"
   ]
  },
  {
   "cell_type": "code",
   "execution_count": 10,
   "id": "32ba05cb-42ca-4342-94a9-d06ea1c4aaef",
   "metadata": {},
   "outputs": [],
   "source": [
    "sample2 = pd.read_csv(\"part.csv\")"
   ]
  },
  {
   "cell_type": "code",
   "execution_count": 11,
   "id": "b39f3af9-9239-4437-a647-6629497ee5ef",
   "metadata": {},
   "outputs": [],
   "source": [
    "plots2 = sample2['plots'].to_numpy()"
   ]
  },
  {
   "cell_type": "code",
   "execution_count": 12,
   "id": "437a3bdd-131b-4392-82c5-d899085043e8",
   "metadata": {
    "collapsed": true,
    "jupyter": {
     "outputs_hidden": true
    },
    "scrolled": true
   },
   "outputs": [
    {
     "data": {
      "text/plain": [
       "array([     1,      4,      8,     16,     23,     32,     41,     56,\n",
       "           64,     86,     99,    124,    140,    168,    187,    223,\n",
       "          241,    277,    300,    344,    370,    419,    441,    493,\n",
       "          522,    580,    609,    673,    699,    758,    794,    856,\n",
       "          902,    967,   1008,   1085,   1125,   1214,   1257,   1350,\n",
       "         1394,   1488,   1542,   1648,   1690,   1795,   1839,   1946,\n",
       "         1989,   2108,   2153,   2276,   2317,   2453,   2509,   2640,\n",
       "         2686,   2826,   2883,   3021,   3082,   3231,   3331,   3495,\n",
       "         3594,   3755,   3858,   4023,   4130,   4264,   4370,   4508,\n",
       "         4612,   4762,   4863,   5029,   5127,   5299,   5392,   5571,\n",
       "         5674,   5856,   5961,   6136,   6251,   6420,   6553,   6714,\n",
       "         6853,   7019,   7161,   7331,   7479,   7663,   7809,   7992,\n",
       "         8134,   8311,   8473,   8654,   8827,   8995,   9184,   9348,\n",
       "         9535,   9710,   9903,  10088,  10281,  10478,  10664,  10843,\n",
       "        11034,  11209,  11413,  11609,  11813,  12016,  12214,  12419,\n",
       "        12640,  12829,  13049,  13239,  13467,  13660,  13889,  14095,\n",
       "        14322,  14545,  14772,  14997,  15219,  15461,  15680,  15921,\n",
       "        16137,  16381,  16605,  16840,  17067,  17306,  17558,  17793,\n",
       "        18063,  18303,  18576,  18818,  19076,  19301,  19566,  19799,\n",
       "        20090,  20331,  20624,  20876,  21175,  21421,  21715,  21956,\n",
       "        22238,  22488,  22782,  23043,  23343,  23586,  23922,  24141,\n",
       "        24499,  24730,  25094,  25322,  25678,  25922,  26298,  26517,\n",
       "        26895,  27098,  27485,  27683,  28095,  28295,  28722,  28899,\n",
       "        29339,  29553,  29979,  30176,  30604,  30825,  31239,  31469,\n",
       "        31902,  32211,  32700,  33009,  33494,  33799,  34286,  34595,\n",
       "        35016,  35291,  35704,  35956,  36399,  36647,  37113,  37357,\n",
       "        37840,  38069,  38557,  38803,  39284,  39537,  39998,  40272,\n",
       "        40716,  41024,  41446,  41775,  42208,  42540,  42975,  43310,\n",
       "        43767,  44095,  44536,  44863,  45280,  45655,  46078,  46463,\n",
       "        46857,  47259,  47651,  48051,  48460,  48876,  49302,  49714,\n",
       "        50161,  50552,  50957,  51361,  51752,  52179,  52607,  53029,\n",
       "        53465,  53873,  54310,  54765,  55171,  55619,  56014,  56477,\n",
       "        56874,  57336,  57757,  58214,  58667,  59122,  59571,  60012,\n",
       "        60492,  60922,  61397,  61820,  62299,  62732,  63194,  63626,\n",
       "        64091,  64570,  65024,  65536,  65997,  66507,  66973,  67453,\n",
       "        67880,  68366,  68806,  69339,  69799,  70333,  70808,  71348,\n",
       "        71811,  72335,  72791,  73296,  73760,  74286,  74762,  75297,\n",
       "        75742,  76337,  76735,  77362,  77781,  78416,  78828,  79446,\n",
       "        79880,  80526,  80922,  81573,  81935,  82602,  82955,  83660,\n",
       "        84015,  84746,  85059,  85803,  86175,  86896,  87244,  87960,\n",
       "        88345,  89035,  89434,  90151,  90669,  91483,  92002,  92811,\n",
       "        93318,  94127,  94638,  95346,  95790,  96478,  96878,  97614,\n",
       "        98009,  98775,  99165,  99959, 100324, 101121, 101510, 102290,\n",
       "       102691, 103438, 103871, 104590, 105073, 105756, 106275, 106975,\n",
       "       107497, 108197, 108719, 109449, 109959, 110658, 111170, 111827,\n",
       "       112415, 113080, 113677, 114297, 114912, 115532, 116145, 116788,\n",
       "       117427, 118094, 118725, 119422, 120018, 120649, 121266, 121873,\n",
       "       122523, 123183, 123823, 124492, 125110, 125779, 126468, 127091,\n",
       "       127767, 128367, 129065, 129666, 130361, 130997, 131684, 132367,\n",
       "       133050, 133723, 134383, 135101, 135742, 136451, 137081, 137795,\n",
       "       138437, 139126, 139763, 140454, 141160, 141833, 142587, 143269,\n",
       "       144016, 144706, 145408, 146037, 146744, 147391, 148166, 148845,\n",
       "       149620, 150318, 151099, 151779, 152533, 153204, 153932, 154610,\n",
       "       155368, 156059, 156829, 157476, 158330, 158907, 159803, 160410,\n",
       "       161316, 161912, 162792, 163416, 164332, 164905, 165829, 166350,\n",
       "       167297, 167805, 168803, 169313, 170348, 170797, 171845, 172375,\n",
       "       173391, 173890, 174894, 175443, 176409, 176977, 177978, 178705,\n",
       "       179844, 180573, 181706, 182415, 183546, 184259, 185254, 185867,\n",
       "       186830, 187378, 188407, 188949, 190015, 190551, 191656, 192157,\n",
       "       193263, 193795, 194874, 195423, 196456, 197048, 198042, 198700,\n",
       "       199644, 200353, 201320, 202032, 202997, 203706, 204709, 205401,\n",
       "       206358, 207055, 207952, 208753, 209660, 210469, 211315, 212143,\n",
       "       212991, 213817, 214694, 215556])"
      ]
     },
     "execution_count": 12,
     "metadata": {},
     "output_type": "execute_result"
    }
   ],
   "source": [
    "plots2"
   ]
  },
  {
   "cell_type": "code",
   "execution_count": 13,
   "id": "8121a5a9-048d-4a33-bd0c-bffbb009f1d8",
   "metadata": {
    "collapsed": true,
    "jupyter": {
     "outputs_hidden": true
    },
    "scrolled": true
   },
   "outputs": [
    {
     "data": {
      "text/plain": [
       "array([   3,    4,    8,    7,    9,    9,   15,    8,   22,   13,   25,\n",
       "         16,   28,   19,   36,   18,   36,   23,   44,   26,   49,   22,\n",
       "         52,   29,   58,   29,   64,   26,   59,   36,   62,   46,   65,\n",
       "         41,   77,   40,   89,   43,   93,   44,   94,   54,  106,   42,\n",
       "        105,   44,  107,   43,  119,   45,  123,   41,  136,   56,  131,\n",
       "         46,  140,   57,  138,   61,  149,  100,  164,   99,  161,  103,\n",
       "        165,  107,  134,  106,  138,  104,  150,  101,  166,   98,  172,\n",
       "         93,  179,  103,  182,  105,  175,  115,  169,  133,  161,  139,\n",
       "        166,  142,  170,  148,  184,  146,  183,  142,  177,  162,  181,\n",
       "        173,  168,  189,  164,  187,  175,  193,  185,  193,  197,  186,\n",
       "        179,  191,  175,  204,  196,  204,  203,  198,  205,  221,  189,\n",
       "        220,  190,  228,  193,  229,  206,  227,  223,  227,  225,  222,\n",
       "        242,  219,  241,  216,  244,  224,  235,  227,  239,  252,  235,\n",
       "        270,  240,  273,  242,  258,  225,  265,  233,  291,  241,  293,\n",
       "        252,  299,  246,  294,  241,  282,  250,  294,  261,  300,  243,\n",
       "        336,  219,  358,  231,  364,  228,  356,  244,  376,  219,  378,\n",
       "        203,  387,  198,  412,  200,  427,  177,  440,  214,  426,  197,\n",
       "        428,  221,  414,  230,  433,  309,  489,  309,  485,  305,  487,\n",
       "        309,  421,  275,  413,  252,  443,  248,  466,  244,  483,  229,\n",
       "        488,  246,  481,  253,  461,  274,  444,  308,  422,  329,  433,\n",
       "        332,  435,  335,  457,  328,  441,  327,  417,  375,  423,  385,\n",
       "        394,  402,  392,  400,  409,  416,  426,  412,  447,  391,  405,\n",
       "        404,  391,  427,  428,  422,  436,  408,  437,  455,  406,  448,\n",
       "        395,  463,  397,  462,  421,  457,  453,  455,  449,  441,  480,\n",
       "        430,  475,  423,  479,  433,  462,  432,  465,  479,  454,  512,\n",
       "        461,  510,  466,  480,  427,  486,  440,  533,  460,  534,  475,\n",
       "        540,  463,  524,  456,  505,  464,  526,  476,  535,  445,  595,\n",
       "        398,  627,  419,  635,  412,  618,  434,  646,  396,  651,  362,\n",
       "        667,  353,  705,  355,  731,  313,  744,  372,  721,  348,  716,\n",
       "        385,  690,  399,  717,  518,  814,  519,  809,  507,  809,  511,\n",
       "        708,  444,  688,  400,  736,  395,  766,  390,  794,  365,  797,\n",
       "        389,  780,  401,  747,  433,  719,  483,  683,  519,  700,  522,\n",
       "        700,  522,  730,  510,  699,  512,  657,  588,  665,  597,  620,\n",
       "        615,  620,  613,  643,  639,  667,  631,  697,  596,  631,  617,\n",
       "        607,  650,  660,  640,  669,  618,  669,  689,  623,  676,  600,\n",
       "        698,  601,  695,  636,  687,  683,  683,  673,  660,  718,  641,\n",
       "        709,  630,  714,  642,  689,  637,  691,  706,  673,  754,  682,\n",
       "        747,  690,  702,  629,  707,  647,  775,  679,  775,  698,  781,\n",
       "        680,  754,  671,  728,  678,  758,  691,  770,  647,  854,  577,\n",
       "        896,  607,  906,  596,  880,  624,  916,  573,  924,  521,  947,\n",
       "        508,  998,  510, 1035,  449, 1048,  530, 1016,  499, 1004,  549,\n",
       "        966,  568, 1001,  727, 1139,  729, 1133,  709, 1131,  713,  995,\n",
       "        613,  963,  548, 1029,  542, 1066,  536, 1105,  501, 1106,  532,\n",
       "       1079,  549, 1033,  592,  994,  658,  944,  709,  967,  712,  965,\n",
       "        709, 1003,  692,  957,  697,  897,  801,  907,  809,  846,  828,\n",
       "        848,  826,  877,  862])"
      ]
     },
     "execution_count": 13,
     "metadata": {},
     "output_type": "execute_result"
    }
   ],
   "source": [
    "diff(plots2)"
   ]
  },
  {
   "cell_type": "code",
   "execution_count": 14,
   "id": "bb547586-41d8-4f50-8cbb-018704349b84",
   "metadata": {
    "collapsed": true,
    "jupyter": {
     "outputs_hidden": true
    }
   },
   "outputs": [
    {
     "data": {
      "text/plain": [
       "array([   1,    4,   -1,    2,    0,    6,   -7,   14,   -9,   12,   -9,\n",
       "         12,   -9,   17,  -18,   18,  -13,   21,  -18,   23,  -27,   30,\n",
       "        -23,   29,  -29,   35,  -38,   33,  -23,   26,  -16,   19,  -24,\n",
       "         36,  -37,   49,  -46,   50,  -49,   50,  -40,   52,  -64,   63,\n",
       "        -61,   63,  -64,   76,  -74,   78,  -82,   95,  -80,   75,  -85,\n",
       "         94,  -83,   81,  -77,   88,  -49,   64,  -65,   62,  -58,   62,\n",
       "        -58,   27,  -28,   32,  -34,   46,  -49,   65,  -68,   74,  -79,\n",
       "         86,  -76,   79,  -77,   70,  -60,   54,  -36,   28,  -22,   27,\n",
       "        -24,   28,  -22,   36,  -38,   37,  -41,   35,  -15,   19,   -8,\n",
       "         -5,   21,  -25,   23,  -12,   18,   -8,    8,    4,  -11,   -7,\n",
       "         12,  -16,   29,   -8,    8,   -1,   -5,    7,   16,  -32,   31,\n",
       "        -30,   38,  -35,   36,  -23,   21,   -4,    4,   -2,   -3,   20,\n",
       "        -23,   22,  -25,   28,  -20,   11,   -8,   12,   13,  -17,   35,\n",
       "        -30,   33,  -31,   16,  -33,   40,  -32,   58,  -50,   52,  -41,\n",
       "         47,  -53,   48,  -53,   41,  -32,   44,  -33,   39,  -57,   93,\n",
       "       -117,  139, -127,  133, -136,  128, -112,  132, -157,  159, -175,\n",
       "        184, -189,  214, -212,  227, -250,  263, -226,  212, -229,  231,\n",
       "       -207,  193, -184,  203, -124,  180, -180,  176, -180,  182, -178,\n",
       "        112, -146,  138, -161,  191, -195,  218, -222,  239, -254,  259,\n",
       "       -242,  235, -228,  208, -187,  170, -136,  114,  -93,  104, -101,\n",
       "        103, -100,  122, -129,  113, -114,   90,  -42,   48,  -38,    9,\n",
       "          8,  -10,    8,    9,    7,   10,  -14,   35,  -56,   14,   -1,\n",
       "        -13,   36,    1,   -6,   14,  -28,   29,   18,  -49,   42,  -53,\n",
       "         68,  -66,   65,  -41,   36,   -4,    2,   -6,   -8,   39,  -50,\n",
       "         45,  -52,   56,  -46,   29,  -30,   33,   14,  -25,   58,  -51,\n",
       "         49,  -44,   14,  -53,   59,  -46,   93,  -73,   74,  -59,   65,\n",
       "        -77,   61,  -68,   49,  -41,   62,  -50,   59,  -90,  150, -197,\n",
       "        229, -208,  216, -223,  206, -184,  212, -250,  255, -289,  305,\n",
       "       -314,  352, -350,  376, -418,  431, -372,  349, -373,  368, -331,\n",
       "        305, -291,  318, -199,  296, -295,  290, -302,  302, -298,  197,\n",
       "       -264,  244, -288,  336, -341,  371, -376,  404, -429,  432, -408,\n",
       "        391, -379,  346, -314,  286, -236,  200, -164,  181, -178,  178,\n",
       "       -178,  208, -220,  189, -187,  145,  -69,   77,  -68,   23,   -5,\n",
       "          5,   -7,   30,   -4,   28,  -36,   66, -101,   35,  -14,  -10,\n",
       "         43,   10,  -20,   29,  -51,   51,   20,  -66,   53,  -76,   98,\n",
       "        -97,   94,  -59,   51,   -4,    0,  -10,  -13,   58,  -77,   68,\n",
       "        -79,   84,  -72,   47,  -52,   54,   15,  -33,   81,  -72,   65,\n",
       "        -57,   12,  -73,   78,  -60,  128,  -96,   96,  -77,   83, -101,\n",
       "         74,  -83,   57,  -50,   80,  -67,   79, -123,  207, -277,  319,\n",
       "       -289,  299, -310,  284, -256,  292, -343,  351, -403,  426, -439,\n",
       "        490, -488,  525, -586,  599, -518,  486, -517,  505, -455,  417,\n",
       "       -398,  433, -274,  412, -410,  404, -424,  422, -418,  282, -382,\n",
       "        350, -415,  481, -487,  524, -530,  569, -604,  605, -574,  547,\n",
       "       -530,  484, -441,  402, -336,  286, -235,  258, -255,  253, -256,\n",
       "        294, -311,  265, -260,  200,  -96,  106,  -98,   37,  -18,   20,\n",
       "        -22,   51,  -15])"
      ]
     },
     "execution_count": 14,
     "metadata": {},
     "output_type": "execute_result"
    }
   ],
   "source": [
    "diff(diff(plots2))"
   ]
  },
  {
   "cell_type": "code",
   "execution_count": 29,
   "id": "6545bceb-ac1c-4ec0-84c0-6ea9c6795537",
   "metadata": {},
   "outputs": [],
   "source": [
    "ddplots2 = diff(diff(plots2))"
   ]
  },
  {
   "cell_type": "code",
   "execution_count": 142,
   "id": "ebd91fdf-54d3-4c68-b8e0-b613a8786484",
   "metadata": {},
   "outputs": [
    {
     "name": "stdout",
     "output_type": "stream",
     "text": [
      "at: 26501365 -> cycle 202300, col 65\n",
      "\n",
      "   1    4    8   16   23   32   41   56   64   86   99  124  140  168  187  223  241  277  300  344  370  419  441  493  522  580  609  673  699  758  794  856  902  967 1008 1085 1125 1214 1257 1350 1394 1488 1542 1648 1690 1795 1839 1946 1989 2108 2153 2276 2317 2453 2509 2640 2686 2826 2883 3021 3082 3231 3331 3495 3594 3755 3858 4023 4130 4264 4370 4508 4612 4762 4863 5029 5127 5299 5392 5571 5674 5856 5961 6136 6251 6420 6553 6714 6853 7019 7161 7331 7479 7663 7809 7992 8134 8311 8473 8654 8827 8995 9184 9348 9535 9710 9903 10088 10281 10478 10664 10843 11034 11209 11413 11609 11813 12016 12214 12419 12640 12829 13049 13239 13467 13660 13889 14095 14322 14545 14772\n",
      "14997 15219 15461 15680 15921 16137 16381 16605 16840 17067 17306 17558 17793 18063 18303 18576 18818 19076 19301 19566 19799 20090 20331 20624 20876 21175 21421 21715 21956 22238 22488 22782 23043 23343 23586 23922 24141 24499 24730 25094 25322 25678 25922 26298 26517 26895 27098 27485 27683 28095 28295 28722 28899 29339 29553 29979 30176 30604 30825 31239 31469 31902 32211 32700 33009 33494 33799 34286 34595 35016 35291 35704 35956 36399 36647 37113 37357 37840 38069 38557 38803 39284 39537 39998 40272 40716 41024 41446 41775 42208 42540 42975 43310 43767 44095 44536 44863 45280 45655 46078 46463 46857 47259 47651 48051 48460 48876 49302 49714 50161 50552 50957 51361 51752 52179 52607 53029 53465 53873 54310 54765 55171 55619 56014 56477 56874 57336 57757 58214 58667 59122\n",
      "59571 60012 60492 60922 61397 61820 62299 62732 63194 63626 64091 64570 65024 65536 65997 66507 66973 67453 67880 68366 68806 69339 69799 70333 70808 71348 71811 72335 72791 73296 73760 74286 74762 75297 75742 76337 76735 77362 77781 78416 78828 79446 79880 80526 80922 81573 81935 82602 82955 83660 84015 84746 85059 85803 86175 86896 87244 87960 88345 89035 89434 90151 90669 91483 92002 92811 93318 94127 94638 95346 95790 96478 96878 97614 98009 98775 99165 99959 100324 101121 101510 102290 102691 103438 103871 104590 105073 105756 106275 106975 107497 108197 108719 109449 109959 110658 111170 111827 112415 113080 113677 114297 114912 115532 116145 116788 117427 118094 118725 119422 120018 120649 121266 121873 122523 123183 123823 124492 125110 125779 126468 127091 127767 128367 129065 129666 130361 130997 131684 132367 133050\n",
      "\n",
      "   3    4    8    7    9    9   15    8   22   13   25   16   28   19   36   18   36   23   44   26   49   22   52   29   58   29   64   26   59   36   62   46   65   41   77   40   89   43   93   44   94   54  106   42  105   44  107   43  119   45  123   41  136   56  131   46  140   57  138   61  149  100  164   99  161  103  165  107  134  106  138  104  150  101  166   98  172   93  179  103  182  105  175  115  169  133  161  139  166  142  170  148  184  146  183  142  177  162  181  173  168  189  164  187  175  193  185  193  197  186  179  191  175  204  196  204  203  198  205  221  189  220  190  228  193  229  206  227  223  227  225\n",
      " 222  242  219  241  216  244  224  235  227  239  252  235  270  240  273  242  258  225  265  233  291  241  293  252  299  246  294  241  282  250  294  261  300  243  336  219  358  231  364  228  356  244  376  219  378  203  387  198  412  200  427  177  440  214  426  197  428  221  414  230  433  309  489  309  485  305  487  309  421  275  413  252  443  248  466  244  483  229  488  246  481  253  461  274  444  308  422  329  433  332  435  335  457  328  441  327  417  375  423  385  394  402  392  400  409  416  426  412  447  391  405  404  391  427  428  422  436  408  437  455  406  448  395  463  397  462  421  457  453  455  449\n",
      " 441  480  430  475  423  479  433  462  432  465  479  454  512  461  510  466  480  427  486  440  533  460  534  475  540  463  524  456  505  464  526  476  535  445  595  398  627  419  635  412  618  434  646  396  651  362  667  353  705  355  731  313  744  372  721  348  716  385  690  399  717  518  814  519  809  507  809  511  708  444  688  400  736  395  766  390  794  365  797  389  780  401  747  433  719  483  683  519  700  522  700  522  730  510  699  512  657  588  665  597  620  615  620  613  643  639  667  631  697  596  631  617  607  650  660  640  669  618  669  689  623  676  600  698  601  695  636  687  683  683  673\n",
      "\n",
      " 219  238  211  234  207  235  209  227  205  226  227  219  242  221  237  224  222  202  221  207  242  219  241  223  241  217  230  215  223  214  232  215  235  202  259  179  269  188  271  184  262  190  270  177  273  159  280  155  293  155  304  136  304  158  295  151  288  164  276  169  284  209  325  210  324  202  322  202  287  169  275  148  293  147  300  146  311  136  309  143  299  148  286  159  275  175  261  190  267  190  265  187  273  182  258  185  240  213  242  212  226  213  228  213  234  223  241  219  250  205  226  213  216  223  232  218  233  210  232  234  217  228  205  235  204  233  215  230  230  228  224\n",
      "start: 1\n",
      "base: start*cols = 1*131 = 14997\n",
      "tcycle - start = 202300 - 1 = 202299\n",
      "sum(dval[start]) = sum([ 222  242  219  241  216  244  224  235  227  239  252  235  270  240  273  242  258  225  265  233  291  241  293  252  299  246  294  241  282  250  294  261  300  243  336  219  358  231  364  228  356  244  376  219  378  203  387  198  412  200  427  177  440  214  426  197  428  221  414  230  433  309  489  309  485  305  487  309  421  275  413  252  443  248  466  244  483  229  488  246  481  253  461  274  444  308  422  329  433  332  435  335  457  328  441  327  417  375  423  385  394  402  392  400  409  416  426  412  447  391  405  404  391  427  428  422  436  408  437  455  406  448  395  463  397  462  421  457  453  455  449]) = 44574\n",
      "(tcycle - start) * sum(dval[start]) = 202299 * 44574 = 9017275626\n",
      "\n",
      "sum(ddval) = sum([ 219  238  211  234  207  235  209  227  205  226  227  219  242  221  237  224  222  202  221  207  242  219  241  223  241  217  230  215  223  214  232  215  235  202  259  179  269  188  271  184  262  190  270  177  273  159  280  155  293  155  304  136  304  158  295  151  288  164  276  169  284  209  325  210  324  202  322  202  287  169  275  148  293  147  300  146  311  136  309  143  299  148  286  159  275  175  261  190  267  190  265  187  273  182  258  185  240  213  242  212  226  213  228  213  234  223  241  219  250  205  226  213  216  223  232  218  233  210  232  234  217  228  205  235  204  233  215  230  230  228  224]) = 605235138395478\n",
      "\n",
      "(tcycle - start) * sum(ddval[:tcol] = 202299 * sum( 219  238  211  234  207  235  209  227  205  226  227  219  242  221  237  224  222  202  221  207  242  219  241  223  241  217  230  215  223  214  232  215  235  202  259  179  269  188  271  184  262  190  270  177  273  159  280  155  293  155  304  136  304  158  295  151  288  164  276  169  284  209  325  210  324) = 2982494157\n",
      "\n"
     ]
    },
    {
     "data": {
      "text/plain": [
       "605247138198755"
      ]
     },
     "execution_count": 142,
     "metadata": {},
     "output_type": "execute_result"
    }
   ],
   "source": [
    "extrapolate(plots2, 131, 26501365)"
   ]
  },
  {
   "cell_type": "code",
   "execution_count": null,
   "id": "b7a46a4c-26f4-4cdf-9f96-4812b3cf424f",
   "metadata": {},
   "outputs": [],
   "source": []
  }
 ],
 "metadata": {
  "kernelspec": {
   "display_name": "Python 3 (ipykernel)",
   "language": "python",
   "name": "python3"
  },
  "language_info": {
   "codemirror_mode": {
    "name": "ipython",
    "version": 3
   },
   "file_extension": ".py",
   "mimetype": "text/x-python",
   "name": "python",
   "nbconvert_exporter": "python",
   "pygments_lexer": "ipython3",
   "version": "3.11.4"
  }
 },
 "nbformat": 4,
 "nbformat_minor": 5
}
